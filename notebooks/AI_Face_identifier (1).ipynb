{
 "cells": [
  {
   "cell_type": "markdown",
   "metadata": {},
   "source": [
    "This is the python notebook to train various ML models for ai face image identification task. The first step is to download the dataset using the script below."
   ]
  },
  {
   "cell_type": "code",
   "execution_count": 1,
   "metadata": {},
   "outputs": [
    {
     "name": "stdout",
     "output_type": "stream",
     "text": [
      "Requirement already satisfied: kaggle in /Users/guobuzai/miniconda3/envs/ml/lib/python3.12/site-packages (1.6.17)\n",
      "Requirement already satisfied: six>=1.10 in /Users/guobuzai/miniconda3/envs/ml/lib/python3.12/site-packages (from kaggle) (1.16.0)\n",
      "Requirement already satisfied: certifi>=2023.7.22 in /Users/guobuzai/miniconda3/envs/ml/lib/python3.12/site-packages (from kaggle) (2024.8.30)\n",
      "Requirement already satisfied: python-dateutil in /Users/guobuzai/miniconda3/envs/ml/lib/python3.12/site-packages (from kaggle) (2.9.0)\n",
      "Requirement already satisfied: requests in /Users/guobuzai/miniconda3/envs/ml/lib/python3.12/site-packages (from kaggle) (2.32.3)\n",
      "Requirement already satisfied: tqdm in /Users/guobuzai/miniconda3/envs/ml/lib/python3.12/site-packages (from kaggle) (4.66.5)\n",
      "Requirement already satisfied: python-slugify in /Users/guobuzai/miniconda3/envs/ml/lib/python3.12/site-packages (from kaggle) (8.0.4)\n",
      "Requirement already satisfied: urllib3 in /Users/guobuzai/miniconda3/envs/ml/lib/python3.12/site-packages (from kaggle) (2.2.2)\n",
      "Requirement already satisfied: bleach in /Users/guobuzai/miniconda3/envs/ml/lib/python3.12/site-packages (from kaggle) (6.1.0)\n",
      "Requirement already satisfied: webencodings in /Users/guobuzai/miniconda3/envs/ml/lib/python3.12/site-packages (from bleach->kaggle) (0.5.1)\n",
      "Requirement already satisfied: text-unidecode>=1.3 in /Users/guobuzai/miniconda3/envs/ml/lib/python3.12/site-packages (from python-slugify->kaggle) (1.3)\n",
      "Requirement already satisfied: charset-normalizer<4,>=2 in /Users/guobuzai/miniconda3/envs/ml/lib/python3.12/site-packages (from requests->kaggle) (3.3.2)\n",
      "Requirement already satisfied: idna<4,>=2.5 in /Users/guobuzai/miniconda3/envs/ml/lib/python3.12/site-packages (from requests->kaggle) (3.8)\n"
     ]
    }
   ],
   "source": [
    "!pip install kaggle\n"
   ]
  },
  {
   "cell_type": "code",
   "execution_count": 1,
   "metadata": {},
   "outputs": [],
   "source": [
    "import os, requests, tarfile, kaggle, zipfile; \n"
   ]
  },
  {
   "cell_type": "code",
   "execution_count": 2,
   "metadata": {},
   "outputs": [],
   "source": [
    "datasets = {\n",
    "    \"ai_faces\": \"chelove4draste/5k-ai-generated-faces\",\n",
    "    \"real_faces\": \"atulanandjha/lfwpeople\"\n",
    "}\n",
    "\n",
    "# Local download paths\n",
    "download_dir = \"./datasets\"\n",
    "os.makedirs(download_dir, exist_ok=True)\n"
   ]
  },
  {
   "cell_type": "code",
   "execution_count": 3,
   "metadata": {},
   "outputs": [],
   "source": [
    "# Function to download and unzip Kaggle datasets\n",
    "def download_and_extract(dataset_name, kaggle_path, target_dir):\n",
    "    print(f\"Downloading {dataset_name}...\")\n",
    "    kaggle.api.dataset_download_files(kaggle_path, path=target_dir, unzip=True)\n",
    "    print(f\"{dataset_name} downloaded and extracted to {target_dir}\")\n",
    "# Function to check if a dataset is already downloaded\n",
    "def is_dataset_downloaded(target_dir):\n",
    "    # Check if the directory exists and contains files\n",
    "    return os.path.exists(target_dir) and any(os.scandir(target_dir))\n",
    "\n"
   ]
  },
  {
   "cell_type": "code",
   "execution_count": 4,
   "metadata": {},
   "outputs": [
    {
     "name": "stdout",
     "output_type": "stream",
     "text": [
      "ai_faces dataset is already downloaded at ./datasets\\ai_faces.\n",
      "real_faces dataset is already downloaded at ./datasets\\real_faces.\n",
      "Datasets are checked, downloaded, and organized.\n"
     ]
    }
   ],
   "source": [
    "# Download and extract datasets if not already downloaded\n",
    "for name, kaggle_path in datasets.items():\n",
    "    dataset_path = os.path.join(download_dir, name)\n",
    "    os.makedirs(dataset_path, exist_ok=True)\n",
    "    \n",
    "    if is_dataset_downloaded(dataset_path):\n",
    "        print(f\"{name} dataset is already downloaded at {dataset_path}.\")\n",
    "    else:\n",
    "        download_and_extract(name, kaggle_path, dataset_path)\n",
    "\n",
    "print(\"Datasets are checked, downloaded, and organized.\")\n"
   ]
  },
  {
   "cell_type": "code",
   "execution_count": 5,
   "metadata": {},
   "outputs": [
    {
     "name": "stdout",
     "output_type": "stream",
     "text": [
      "Extracted ./datasets\\real_faces\\lfw-funneled.tgz to ./datasets\\real_faces\n"
     ]
    }
   ],
   "source": [
    "lfw_tgz_path = os.path.join(download_dir, \"real_faces\", \"lfw-funneled.tgz\")\n",
    "extract_path = os.path.join(download_dir, \"real_faces\")\n",
    "\n",
    "# Function to extract .tgz files\n",
    "def extract_tgz(file_path, target_dir):\n",
    "    if not os.path.exists(target_dir):\n",
    "        os.makedirs(target_dir, exist_ok=True)\n",
    "    with tarfile.open(file_path, \"r:gz\") as tar:\n",
    "        tar.extractall(path=target_dir)\n",
    "    print(f\"Extracted {file_path} to {target_dir}\")\n",
    "\n",
    "# Extract the LFW dataset\n",
    "extract_tgz(lfw_tgz_path, extract_path)"
   ]
  },
  {
   "cell_type": "markdown",
   "metadata": {},
   "source": [
    "Now, all the initial datasets are downloaded. We will load 4000 of each of the dataset and then randomly pick 2500 of each to be the trainingset, and 750 of each to be validation set, and the rest to be test set."
   ]
  },
  {
   "cell_type": "code",
   "execution_count": 6,
   "metadata": {},
   "outputs": [
    {
     "name": "stdout",
     "output_type": "stream",
     "text": [
      "Listing files in directory: ./datasets/ai_faces/5k\n",
      "Found 5000 files in AI faces directory.\n",
      "First 5 files: ['./datasets/ai_faces/5k\\\\seed300000.png', './datasets/ai_faces/5k\\\\seed300001.png', './datasets/ai_faces/5k\\\\seed300002.png', './datasets/ai_faces/5k\\\\seed300003.png', './datasets/ai_faces/5k\\\\seed300004.png']\n",
      "Listing files in directory: ./datasets/real_faces/lfw_funneled\n",
      "Found 13233 files in Real faces directory.\n",
      "First 5 files: ['./datasets/real_faces/lfw_funneled\\\\Aaron_Eckhart\\\\Aaron_Eckhart_0001.jpg', './datasets/real_faces/lfw_funneled\\\\Aaron_Guiel\\\\Aaron_Guiel_0001.jpg', './datasets/real_faces/lfw_funneled\\\\Aaron_Patterson\\\\Aaron_Patterson_0001.jpg', './datasets/real_faces/lfw_funneled\\\\Aaron_Peirsol\\\\Aaron_Peirsol_0001.jpg', './datasets/real_faces/lfw_funneled\\\\Aaron_Peirsol\\\\Aaron_Peirsol_0002.jpg']\n"
     ]
    }
   ],
   "source": [
    "ai_faces_dir = \"./datasets/ai_faces/5k\"\n",
    "real_faces_dir = \"./datasets/real_faces/lfw_funneled\"\n",
    "\n",
    "# Function to list files in a directory\n",
    "def list_files(directory):\n",
    "    if not os.path.exists(directory):\n",
    "        print(f\"Directory does not exist: {directory}\")\n",
    "        return []\n",
    "    print(f\"Listing files in directory: {directory}\")\n",
    "    files = []\n",
    "    for root, _, filenames in os.walk(directory):  # Walk through the directory\n",
    "        for file in filenames:\n",
    "            if file.endswith(('.png', '.jpg', '.jpeg')):  # Filter for image files\n",
    "                files.append(os.path.join(root, file))\n",
    "    return files\n",
    "\n",
    "# List files in AI faces directory\n",
    "ai_faces_files = list_files(ai_faces_dir)\n",
    "print(f\"Found {len(ai_faces_files)} files in AI faces directory.\")\n",
    "print(f\"First 5 files: {ai_faces_files[:5]}\")\n",
    "\n",
    "# List files in Real faces directory\n",
    "real_faces_files = list_files(real_faces_dir)\n",
    "print(f\"Found {len(real_faces_files)} files in Real faces directory.\")\n",
    "print(f\"First 5 files: {real_faces_files[:5]}\")\n"
   ]
  },
  {
   "cell_type": "code",
   "execution_count": 7,
   "metadata": {},
   "outputs": [
    {
     "name": "stdout",
     "output_type": "stream",
     "text": [
      "Defaulting to user installation because normal site-packages is not writeable\n",
      "Requirement already satisfied: numpy in c:\\users\\louis\\appdata\\roaming\\python\\python310\\site-packages (1.26.4)\n"
     ]
    },
    {
     "name": "stderr",
     "output_type": "stream",
     "text": [
      "WARNING: You are using pip version 21.2.3; however, version 24.3.1 is available.\n",
      "You should consider upgrading via the 'C:\\Program Files\\Python310\\python.exe -m pip install --upgrade pip' command.\n"
     ]
    },
    {
     "name": "stdout",
     "output_type": "stream",
     "text": [
      "Defaulting to user installation because normal site-packages is not writeable\n",
      "Requirement already satisfied: pillow in c:\\users\\louis\\appdata\\roaming\\python\\python310\\site-packages (10.2.0)\n"
     ]
    },
    {
     "name": "stderr",
     "output_type": "stream",
     "text": [
      "WARNING: You are using pip version 21.2.3; however, version 24.3.1 is available.\n",
      "You should consider upgrading via the 'C:\\Program Files\\Python310\\python.exe -m pip install --upgrade pip' command.\n"
     ]
    },
    {
     "name": "stdout",
     "output_type": "stream",
     "text": [
      "Defaulting to user installation because normal site-packages is not writeable\n",
      "Requirement already satisfied: scikit-learn in c:\\users\\louis\\appdata\\roaming\\python\\python310\\site-packages (1.4.0)\n",
      "Requirement already satisfied: threadpoolctl>=2.0.0 in c:\\users\\louis\\appdata\\roaming\\python\\python310\\site-packages (from scikit-learn) (3.3.0)\n",
      "Requirement already satisfied: scipy>=1.6.0 in c:\\users\\louis\\appdata\\roaming\\python\\python310\\site-packages (from scikit-learn) (1.12.0)\n",
      "Requirement already satisfied: joblib>=1.2.0 in c:\\users\\louis\\appdata\\roaming\\python\\python310\\site-packages (from scikit-learn) (1.3.2)\n",
      "Requirement already satisfied: numpy<2.0,>=1.19.5 in c:\\users\\louis\\appdata\\roaming\\python\\python310\\site-packages (from scikit-learn) (1.26.4)\n"
     ]
    },
    {
     "name": "stderr",
     "output_type": "stream",
     "text": [
      "WARNING: You are using pip version 21.2.3; however, version 24.3.1 is available.\n",
      "You should consider upgrading via the 'C:\\Program Files\\Python310\\python.exe -m pip install --upgrade pip' command.\n"
     ]
    },
    {
     "name": "stdout",
     "output_type": "stream",
     "text": [
      "Defaulting to user installation because normal site-packages is not writeable\n",
      "Collecting scikit-image\n",
      "  Downloading scikit_image-0.24.0-cp310-cp310-win_amd64.whl (12.9 MB)\n",
      "Collecting lazy-loader>=0.4\n",
      "  Downloading lazy_loader-0.4-py3-none-any.whl (12 kB)\n",
      "Requirement already satisfied: numpy>=1.23 in c:\\users\\louis\\appdata\\roaming\\python\\python310\\site-packages (from scikit-image) (1.26.4)\n",
      "Requirement already satisfied: packaging>=21 in c:\\users\\louis\\appdata\\roaming\\python\\python310\\site-packages (from scikit-image) (23.2)\n",
      "Collecting networkx>=2.8\n",
      "  Downloading networkx-3.4.2-py3-none-any.whl (1.7 MB)\n",
      "Collecting imageio>=2.33\n",
      "  Downloading imageio-2.36.1-py3-none-any.whl (315 kB)\n",
      "Requirement already satisfied: pillow>=9.1 in c:\\users\\louis\\appdata\\roaming\\python\\python310\\site-packages (from scikit-image) (10.2.0)\n",
      "Requirement already satisfied: scipy>=1.9 in c:\\users\\louis\\appdata\\roaming\\python\\python310\\site-packages (from scikit-image) (1.12.0)\n",
      "Collecting tifffile>=2022.8.12\n",
      "  Downloading tifffile-2024.9.20-py3-none-any.whl (228 kB)\n",
      "Installing collected packages: tifffile, networkx, lazy-loader, imageio, scikit-image\n",
      "Successfully installed imageio-2.36.1 lazy-loader-0.4 networkx-3.4.2 scikit-image-0.24.0 tifffile-2024.9.20\n"
     ]
    },
    {
     "name": "stderr",
     "output_type": "stream",
     "text": [
      "WARNING: You are using pip version 21.2.3; however, version 24.3.1 is available.\n",
      "You should consider upgrading via the 'C:\\Program Files\\Python310\\python.exe -m pip install --upgrade pip' command.\n"
     ]
    }
   ],
   "source": [
    "!pip install numpy \n",
    "!pip install pillow\n",
    "!pip install scikit-learn\n",
    "!pip install scikit-image\n",
    "from PIL import Image\n",
    "import numpy as np\n",
    "from sklearn.preprocessing import StandardScaler\n",
    "from sklearn.metrics import accuracy_score\n",
    "from sklearn.model_selection import train_test_split\n",
    "from skimage.color import rgb2gray\n",
    "import numpy.random as r "
   ]
  },
  {
   "cell_type": "code",
   "execution_count": 8,
   "metadata": {},
   "outputs": [],
   "source": [
    "# Function to load and preprocess images into an array\n",
    "def load_images_to_array(file_paths, img_size):\n",
    "    images = []\n",
    "    for filepath in file_paths:\n",
    "        try:\n",
    "            img = Image.open(filepath).convert(\"RGB\")  # Ensure RGB format\n",
    "            img = img.resize(img_size)  # Resize to target size\n",
    "            images.append(np.array(img) / 255.0)  # Normalize pixel values\n",
    "        except Exception as e:\n",
    "            print(f\"Error processing {filepath}: {e}\")\n",
    "    return np.array(images)\n"
   ]
  },
  {
   "cell_type": "code",
   "execution_count": 9,
   "metadata": {},
   "outputs": [
    {
     "name": "stdout",
     "output_type": "stream",
     "text": [
      "AI faces array shape: (2000, 128, 128, 3)\n",
      "Real faces array shape: (2000, 128, 128, 3)\n",
      "Images have been processed and saved to numpy arrays.\n"
     ]
    }
   ],
   "source": [
    "# Define constants\n",
    "IMG_SIZE = (128, 128)  # Resize all images to 128x128\n",
    "MAX_IMAGES = 2000  # Limit the number of images\n",
    "\n",
    "# Preprocess AI faces\n",
    "ai_faces_array = load_images_to_array(ai_faces_files[:MAX_IMAGES], IMG_SIZE)\n",
    "print(f\"AI faces array shape: {ai_faces_array.shape}\")\n",
    "\n",
    "# Preprocess Real faces\n",
    "real_faces_array = load_images_to_array(real_faces_files[:MAX_IMAGES], IMG_SIZE)\n",
    "print(f\"Real faces array shape: {real_faces_array.shape}\")\n",
    "\n",
    "# Save to numpy arrays\n",
    "np.save(\"ai_faces.npy\", ai_faces_array)\n",
    "np.save(\"real_faces.npy\", real_faces_array)\n",
    "\n",
    "print(\"Images have been processed and saved to numpy arrays.\")"
   ]
  },
  {
   "cell_type": "markdown",
   "metadata": {},
   "source": []
  },
  {
   "cell_type": "code",
   "execution_count": 10,
   "metadata": {},
   "outputs": [
    {
     "name": "stdout",
     "output_type": "stream",
     "text": [
      "AI Train: (1250, 128, 128, 3), Validation: (400, 128, 128, 3), Test: (350, 128, 128, 3)\n",
      "Real Train: (1250, 128, 128, 3), Validation: (400, 128, 128, 3), Test: (350, 128, 128, 3)\n",
      "Training Set: X_train: (2500, 128, 128, 3), y_train: (2500,)\n",
      "Validation Set: X_val: (800, 128, 128, 3), y_val: (800,)\n",
      "Test Set: X_test: (700, 128, 128, 3), y_test: (700,)\n"
     ]
    }
   ],
   "source": [
    "# Load the numpy arrays\n",
    "ai_faces = np.load(\"ai_faces.npy\")\n",
    "real_faces = np.load(\"real_faces.npy\")\n",
    "\n",
    "# Define dataset sizes\n",
    "train_size = 1250\n",
    "val_size = 400\n",
    "\n",
    "# Function to split the data randomly\n",
    "def split_data(data, train_size, val_size):\n",
    "    indices = np.random.permutation(len(data))  # Shuffle indices\n",
    "    train_indices = indices[:train_size]\n",
    "    val_indices = indices[train_size:train_size + val_size]\n",
    "    test_indices = indices[train_size + val_size:]\n",
    "    return data[train_indices], data[val_indices], data[test_indices]\n",
    "\n",
    "# Split AI faces\n",
    "ai_train, ai_val, ai_test = split_data(ai_faces, train_size, val_size)\n",
    "print(f\"AI Train: {ai_train.shape}, Validation: {ai_val.shape}, Test: {ai_test.shape}\")\n",
    "\n",
    "# Split Real faces\n",
    "real_train, real_val, real_test = split_data(real_faces, train_size, val_size)\n",
    "print(f\"Real Train: {real_train.shape}, Validation: {real_val.shape}, Test: {real_test.shape}\")\n",
    "\n",
    "# Combine training, validation, and test sets\n",
    "X_train = np.concatenate((ai_train, real_train), axis=0)\n",
    "y_train = np.array([0] * len(ai_train) + [1] * len(real_train))  # 0 = AI, 1 = Real\n",
    "\n",
    "X_val = np.concatenate((ai_val, real_val), axis=0)\n",
    "y_val = np.array([0] * len(ai_val) + [1] * len(real_val))\n",
    "\n",
    "X_test = np.concatenate((ai_test, real_test), axis=0)\n",
    "y_test = np.array([0] * len(ai_test) + [1] * len(real_test))\n",
    "\n",
    "# Shuffle the datasets for better training\n",
    "train_indices = np.random.permutation(len(X_train))\n",
    "val_indices = np.random.permutation(len(X_val))\n",
    "test_indices = np.random.permutation(len(X_test))\n",
    "\n",
    "X_train, y_train = X_train[train_indices], y_train[train_indices]\n",
    "X_val, y_val = X_val[val_indices], y_val[val_indices]\n",
    "X_test, y_test = X_test[test_indices], y_test[test_indices]\n",
    "\n",
    "# Output the shapes of the final datasets\n",
    "print(f\"Training Set: X_train: {X_train.shape}, y_train: {y_train.shape}\")\n",
    "print(f\"Validation Set: X_val: {X_val.shape}, y_val: {y_val.shape}\")\n",
    "print(f\"Test Set: X_test: {X_test.shape}, y_test: {y_test.shape}\")"
   ]
  },
  {
   "cell_type": "markdown",
   "metadata": {},
   "source": [
    "After the initialization is completed and loaded to np arrays, it is time to start trying various techniques of ML."
   ]
  },
  {
   "cell_type": "markdown",
   "metadata": {},
   "source": [
    "The first aspect to try is simple NN, using sigmoid function"
   ]
  },
  {
   "cell_type": "code",
   "execution_count": 11,
   "metadata": {},
   "outputs": [],
   "source": [
    "def convert_to_grayscale(images):\n",
    "    return np.array([rgb2gray(image) for image in images])  # Convert each image to grayscale\n"
   ]
  },
  {
   "cell_type": "code",
   "execution_count": 12,
   "metadata": {},
   "outputs": [],
   "source": [
    "X_train_gray = convert_to_grayscale(X_train)\n",
    "X_val_gray = convert_to_grayscale(X_val)\n",
    "X_test_gray = convert_to_grayscale(X_test)\n",
    "\n",
    "# Reshape the images to 1D arrays (flattened)\n",
    "X_train_flat = X_train_gray.reshape(X_train_gray.shape[0], -1)\n",
    "X_val_flat = X_val_gray.reshape(X_val_gray.shape[0], -1)\n",
    "X_test_flat = X_test_gray.reshape(X_test_gray.shape[0], -1)\n"
   ]
  },
  {
   "cell_type": "code",
   "execution_count": 13,
   "metadata": {},
   "outputs": [],
   "source": [
    "def convert_y_to_vect_binary(y):\n",
    "    y_vect = np.zeros((len(y), 2))  # Binary classification: 2 classes (AI, Real)\n",
    "    for i in range(len(y)):\n",
    "        y_vect[i, y[i]] = 1\n",
    "    return y_vect"
   ]
  },
  {
   "cell_type": "code",
   "execution_count": 14,
   "metadata": {},
   "outputs": [],
   "source": [
    "y_v_train = convert_y_to_vect_binary(y_train)\n",
    "y_v_val = convert_y_to_vect_binary(y_val)\n",
    "y_v_test = convert_y_to_vect_binary(y_test)\n"
   ]
  },
  {
   "cell_type": "markdown",
   "metadata": {},
   "source": [
    "Now the NN intialization is completed, and start NN with sigmoid."
   ]
  },
  {
   "cell_type": "code",
   "execution_count": 15,
   "metadata": {},
   "outputs": [],
   "source": [
    "def f(z):\n",
    "    return 1 / (1 + np.exp(-z))\n",
    "\n",
    "def f_deriv(z):\n",
    "    return f(z) * (1 - f(z))\n",
    "\n",
    "# Initialize weights and biases\n",
    "def setup_and_init_weights(nn_structure):\n",
    "    W = {}\n",
    "    b = {}\n",
    "    for l in range(1, len(nn_structure)):\n",
    "        W[l] = r.random_sample((nn_structure[l], nn_structure[l-1]))\n",
    "        b[l] = r.random_sample((nn_structure[l],))\n",
    "    return W, b\n",
    "\n",
    "# Initialize gradient storage\n",
    "def init_tri_values(nn_structure):\n",
    "    tri_W = {}\n",
    "    tri_b = {}\n",
    "    for l in range(1, len(nn_structure)):\n",
    "        tri_W[l] = np.zeros((nn_structure[l], nn_structure[l-1]))\n",
    "        tri_b[l] = np.zeros((nn_structure[l],))\n",
    "    return tri_W, tri_b\n",
    "\n",
    "# Feed forward\n",
    "def feed_forward(x, W, b):\n",
    "    a = {1: x}\n",
    "    z = {}\n",
    "    for l in range(1, len(W) + 1):\n",
    "        node_in = a[l]\n",
    "        z[l + 1] = W[l].dot(node_in) + b[l]\n",
    "        a[l + 1] = f(z[l + 1])\n",
    "    return a, z\n",
    "\n",
    "# Backpropagation\n",
    "def calculate_out_layer_delta(y, a_out, z_out):\n",
    "    return -(y - a_out) * f_deriv(z_out)\n",
    "\n",
    "def calculate_hidden_delta(delta_plus_1, w_l, z_l):\n",
    "    return np.dot(np.transpose(w_l), delta_plus_1) * f_deriv(z_l)\n"
   ]
  },
  {
   "cell_type": "code",
   "execution_count": 16,
   "metadata": {},
   "outputs": [],
   "source": [
    "def train_nn(nn_structure, X, y, iter_num=3000, alpha=0.25):\n",
    "    W, b = setup_and_init_weights(nn_structure)\n",
    "    cnt = 0\n",
    "    N = len(y)\n",
    "    avg_cost_func = []\n",
    "    print(f'Starting gradient descent for {iter_num} iterations')\n",
    "    while cnt < iter_num:\n",
    "        if cnt % 1000 == 0:\n",
    "            print(f'Iteration {cnt} of {iter_num}')\n",
    "        tri_W, tri_b = init_tri_values(nn_structure)\n",
    "        avg_cost = 0\n",
    "        for i in range(N):\n",
    "            delta = {}\n",
    "            a, z = feed_forward(X[i, :], W, b)\n",
    "            for l in range(len(nn_structure), 0, -1):\n",
    "                if l == len(nn_structure):\n",
    "                    delta[l] = calculate_out_layer_delta(y[i, :], a[l], z[l])\n",
    "                    avg_cost += np.linalg.norm((y[i, :] - a[l]))\n",
    "                else:\n",
    "                    if l > 1:\n",
    "                        delta[l] = calculate_hidden_delta(delta[l + 1], W[l], z[l])\n",
    "                    tri_W[l] += np.dot(delta[l + 1][:, np.newaxis], np.transpose(a[l][:, np.newaxis]))\n",
    "                    tri_b[l] += delta[l + 1]\n",
    "        for l in range(len(nn_structure) - 1, 0, -1):\n",
    "            W[l] += -alpha * (1.0 / N * tri_W[l])\n",
    "            b[l] += -alpha * (1.0 / N * tri_b[l])\n",
    "        avg_cost = 1.0 / N * avg_cost\n",
    "        avg_cost_func.append(avg_cost)\n",
    "        cnt += 1\n",
    "    return W, b, avg_cost_func\n"
   ]
  },
  {
   "cell_type": "code",
   "execution_count": 17,
   "metadata": {},
   "outputs": [],
   "source": [
    "def predict_y(W, b, X, n_layers):\n",
    "    N = X.shape[0]\n",
    "    y = np.zeros((N,))\n",
    "    for i in range(N):\n",
    "        a, z = feed_forward(X[i, :], W, b)\n",
    "        y[i] = np.argmax(a[n_layers])\n",
    "    return y"
   ]
  },
  {
   "cell_type": "code",
   "execution_count": 20,
   "metadata": {},
   "outputs": [
    {
     "name": "stdout",
     "output_type": "stream",
     "text": [
      "Starting gradient descent for 5000 iterations\n",
      "Iteration 0 of 5000\n",
      "Iteration 1000 of 5000\n",
      "Iteration 2000 of 5000\n",
      "Iteration 3000 of 5000\n",
      "Iteration 4000 of 5000\n"
     ]
    },
    {
     "data": {
      "image/png": "[encoded data removed]",
      "text/plain": [
       "<Figure size 640x480 with 1 Axes>"
      ]
     },
     "metadata": {},
     "output_type": "display_data"
    }
   ],
   "source": [
    "import matplotlib.pyplot as plt\n",
    "nn_structure = [128 * 128, 10,  2]\n",
    "W, b, avg_cost_func = train_nn(nn_structure, X_train_flat, y_v_train, iter_num=5000)\n",
    "\n",
    "# Plot the cost function\n",
    "plt.plot(avg_cost_func)\n",
    "plt.ylabel('Average J')\n",
    "plt.xlabel('Iteration number')\n",
    "plt.title('Training Cost Over Iterations')\n",
    "plt.show()"
   ]
  },
  {
   "cell_type": "code",
   "execution_count": 21,
   "metadata": {},
   "outputs": [
    {
     "name": "stdout",
     "output_type": "stream",
     "text": [
      "Weight is: {1: array([[0.47822842, 0.28963715, 0.62533507, ..., 0.14629625, 0.92516008,\n",
      "        0.83275967],\n",
      "       [0.70142202, 0.53677351, 0.12879248, ..., 0.45633755, 0.71509052,\n",
      "        0.16889609],\n",
      "       [0.16089854, 0.57004186, 0.23714571, ..., 0.31681852, 0.7231139 ,\n",
      "        0.53495504],\n",
      "       ...,\n",
      "       [0.760719  , 0.38680319, 0.56999166, ..., 0.97351828, 0.59145922,\n",
      "        0.54370662],\n",
      "       [0.39916035, 0.54646556, 0.99935488, ..., 0.79637601, 0.2081058 ,\n",
      "        0.94752548],\n",
      "       [0.0445871 , 0.34304581, 0.97054111, ..., 0.07459662, 0.95796359,\n",
      "        0.93953192]]), 2: array([[ 0.20434299,  0.28394679, -0.12019457, -0.05634878, -0.33044764,\n",
      "        -0.2217877 , -0.40235532, -0.06172717,  0.44808981,  0.10513848],\n",
      "       [-0.13087176, -0.16089382,  0.32837643, -0.32455975, -0.45851104,\n",
      "         0.17502644,  0.26982956,  0.24891203, -0.06254623, -0.15163171]])}\n",
      "Prediction accuracy on the test set is 50.00%\n"
     ]
    }
   ],
   "source": [
    "print(f'Weight is: {W}')\n",
    "# Evaluate on the test set\n",
    "y_pred = predict_y(W, b, X_val_flat, len(nn_structure))\n",
    "y_pred_binary = np.round(y_pred).astype(int)  # Convert predictions to binary\n",
    "\n",
    "# Calculate accuracy\n",
    "accuracy = accuracy_score(y_val, y_pred_binary)\n",
    "print(f'Prediction accuracy on the test set is {accuracy * 100:.2f}%')"
   ]
  },
  {
   "cell_type": "markdown",
   "metadata": {},
   "source": [
    "Now trying logistic regression"
   ]
  },
  {
   "cell_type": "code",
   "execution_count": 22,
   "metadata": {},
   "outputs": [
    {
     "name": "stdout",
     "output_type": "stream",
     "text": [
      "Logistic regression weights are: [[-0.04969402 -0.04229512 -0.03958624 ... -0.02402755 -0.0315294\n",
      "  -0.03559399]]\n",
      "Accuracy on test data: 100.00%\n",
      "Precision: 1.00\n",
      "Recall: 1.00\n",
      "F1-Score: 1.00\n",
      "\n",
      "Classification Report:\n",
      "\n",
      "              precision    recall  f1-score   support\n",
      "\n",
      "          AI       1.00      1.00      1.00       400\n",
      "        Real       1.00      1.00      1.00       400\n",
      "\n",
      "    accuracy                           1.00       800\n",
      "   macro avg       1.00      1.00      1.00       800\n",
      "weighted avg       1.00      1.00      1.00       800\n",
      "\n"
     ]
    }
   ],
   "source": [
    "from sklearn import linear_model\n",
    "from sklearn.metrics import precision_recall_fscore_support, classification_report\n",
    "\n",
    "# Logistic Regression Model\n",
    "logreg = linear_model.LogisticRegression(penalty=None)  # No regularization\n",
    "logreg.fit(X_train_flat, y_train)  # Use flattened grayscale images for training\n",
    "\n",
    "# Model Coefficients and Intercept\n",
    "w_logreg = logreg.coef_\n",
    "intercept_logreg = logreg.intercept_\n",
    "\n",
    "print(f'Logistic regression weights are: {w_logreg}')\n",
    "# Predictions\n",
    "y_hat_logreg = logreg.predict(X_val_flat)  # Predict on test set\n",
    "\n",
    "# Accuracy on Test Set\n",
    "acc_logreg = logreg.score(X_val_flat, y_val)\n",
    "\n",
    "print(\"Accuracy on test data: %.2f%%\" % (acc_logreg * 100))\n",
    "\n",
    "# Precision, Recall, and F-score\n",
    "prec, recal, fscore, sup = precision_recall_fscore_support(y_val, y_hat_logreg, average='binary')\n",
    "\n",
    "print(f\"Precision: {prec:.2f}\")\n",
    "print(f\"Recall: {recal:.2f}\")\n",
    "print(f\"F1-Score: {fscore:.2f}\")\n",
    "\n",
    "# Classification Report for more detailed metrics\n",
    "print(\"\\nClassification Report:\\n\")\n",
    "print(classification_report(y_val, y_hat_logreg, target_names=[\"AI\", \"Real\"]))\n",
    "\n"
   ]
  },
  {
   "cell_type": "markdown",
   "metadata": {},
   "source": [
    "Now trying svms"
   ]
  },
  {
   "cell_type": "code",
   "execution_count": 26,
   "metadata": {},
   "outputs": [
    {
     "ename": "MemoryError",
     "evalue": "Unable to allocate 18.0 GiB for an array with shape (49152, 49152) and data type float64",
     "output_type": "error",
     "traceback": [
      "\u001b[1;31m---------------------------------------------------------------------------\u001b[0m",
      "\u001b[1;31mMemoryError\u001b[0m                               Traceback (most recent call last)",
      "Cell \u001b[1;32mIn[26], line 84\u001b[0m\n\u001b[0;32m     82\u001b[0m \u001b[38;5;66;03m# Train the SVM with the training set and evaluate using the validation set\u001b[39;00m\n\u001b[0;32m     83\u001b[0m lambda1 \u001b[38;5;241m=\u001b[39m \u001b[38;5;241m0.1\u001b[39m  \u001b[38;5;66;03m# Regularization parameter\u001b[39;00m\n\u001b[1;32m---> 84\u001b[0m w_svm \u001b[38;5;241m=\u001b[39m \u001b[43mtrain_svm\u001b[49m\u001b[43m(\u001b[49m\u001b[43mX_train_scaled\u001b[49m\u001b[43m,\u001b[49m\u001b[43m \u001b[49m\u001b[43my_train_svm\u001b[49m\u001b[43m,\u001b[49m\u001b[43m \u001b[49m\u001b[43mlambda1\u001b[49m\u001b[38;5;241;43m=\u001b[39;49m\u001b[43mlambda1\u001b[49m\u001b[43m)\u001b[49m\n\u001b[0;32m     86\u001b[0m \u001b[38;5;66;03m# Make predictions on the validation set\u001b[39;00m\n\u001b[0;32m     87\u001b[0m y_val_pred_svm \u001b[38;5;241m=\u001b[39m np\u001b[38;5;241m.\u001b[39msign(np\u001b[38;5;241m.\u001b[39mdot(X_val_scaled, w_svm))\n",
      "Cell \u001b[1;32mIn[26], line 79\u001b[0m, in \u001b[0;36mtrain_svm\u001b[1;34m(X, y, lambda1)\u001b[0m\n\u001b[0;32m     76\u001b[0m w0 \u001b[38;5;241m=\u001b[39m np\u001b[38;5;241m.\u001b[39mzeros(d)  \u001b[38;5;66;03m# Initialize weights to zeros\u001b[39;00m\n\u001b[0;32m     78\u001b[0m \u001b[38;5;66;03m# Use scipy.optimize.minimize to minimize the objective function\u001b[39;00m\n\u001b[1;32m---> 79\u001b[0m result \u001b[38;5;241m=\u001b[39m \u001b[43mminimize\u001b[49m\u001b[43m(\u001b[49m\u001b[43mfun\u001b[49m\u001b[38;5;241;43m=\u001b[39;49m\u001b[43msvm_objective\u001b[49m\u001b[43m,\u001b[49m\u001b[43m \u001b[49m\u001b[43mx0\u001b[49m\u001b[38;5;241;43m=\u001b[39;49m\u001b[43mw0\u001b[49m\u001b[43m,\u001b[49m\u001b[43m \u001b[49m\u001b[43margs\u001b[49m\u001b[38;5;241;43m=\u001b[39;49m\u001b[43m(\u001b[49m\u001b[43mX\u001b[49m\u001b[43m,\u001b[49m\u001b[43m \u001b[49m\u001b[43my\u001b[49m\u001b[43m,\u001b[49m\u001b[43m \u001b[49m\u001b[43mlambda1\u001b[49m\u001b[43m)\u001b[49m\u001b[43m,\u001b[49m\u001b[43m \u001b[49m\u001b[43mmethod\u001b[49m\u001b[38;5;241;43m=\u001b[39;49m\u001b[38;5;124;43m'\u001b[39;49m\u001b[38;5;124;43mL-BFGS-B\u001b[39;49m\u001b[38;5;124;43m'\u001b[39;49m\u001b[43m)\u001b[49m\n\u001b[0;32m     80\u001b[0m \u001b[38;5;28;01mreturn\u001b[39;00m result\u001b[38;5;241m.\u001b[39mx\n",
      "File \u001b[1;32m~\\AppData\\Roaming\\Python\\Python310\\site-packages\\scipy\\optimize\\_minimize.py:713\u001b[0m, in \u001b[0;36mminimize\u001b[1;34m(fun, x0, args, method, jac, hess, hessp, bounds, constraints, tol, callback, options)\u001b[0m\n\u001b[0;32m    710\u001b[0m     res \u001b[38;5;241m=\u001b[39m _minimize_newtoncg(fun, x0, args, jac, hess, hessp, callback,\n\u001b[0;32m    711\u001b[0m                              \u001b[38;5;241m*\u001b[39m\u001b[38;5;241m*\u001b[39moptions)\n\u001b[0;32m    712\u001b[0m \u001b[38;5;28;01melif\u001b[39;00m meth \u001b[38;5;241m==\u001b[39m \u001b[38;5;124m'\u001b[39m\u001b[38;5;124ml-bfgs-b\u001b[39m\u001b[38;5;124m'\u001b[39m:\n\u001b[1;32m--> 713\u001b[0m     res \u001b[38;5;241m=\u001b[39m _minimize_lbfgsb(fun, x0, args, jac, bounds,\n\u001b[0;32m    714\u001b[0m                            callback\u001b[38;5;241m=\u001b[39mcallback, \u001b[38;5;241m*\u001b[39m\u001b[38;5;241m*\u001b[39moptions)\n\u001b[0;32m    715\u001b[0m \u001b[38;5;28;01melif\u001b[39;00m meth \u001b[38;5;241m==\u001b[39m \u001b[38;5;124m'\u001b[39m\u001b[38;5;124mtnc\u001b[39m\u001b[38;5;124m'\u001b[39m:\n\u001b[0;32m    716\u001b[0m     res \u001b[38;5;241m=\u001b[39m _minimize_tnc(fun, x0, args, jac, bounds, callback\u001b[38;5;241m=\u001b[39mcallback,\n\u001b[0;32m    717\u001b[0m                         \u001b[38;5;241m*\u001b[39m\u001b[38;5;241m*\u001b[39moptions)\n",
      "File \u001b[1;32m~\\AppData\\Roaming\\Python\\Python310\\site-packages\\scipy\\optimize\\_lbfgsb_py.py:309\u001b[0m, in \u001b[0;36m_minimize_lbfgsb\u001b[1;34m(fun, x0, args, jac, bounds, disp, maxcor, ftol, gtol, eps, maxfun, maxiter, iprint, callback, maxls, finite_diff_rel_step, **unknown_options)\u001b[0m\n\u001b[0;32m    306\u001b[0m         iprint \u001b[38;5;241m=\u001b[39m disp\n\u001b[0;32m    308\u001b[0m \u001b[38;5;66;03m# _prepare_scalar_function can use bounds=None to represent no bounds\u001b[39;00m\n\u001b[1;32m--> 309\u001b[0m sf \u001b[38;5;241m=\u001b[39m \u001b[43m_prepare_scalar_function\u001b[49m\u001b[43m(\u001b[49m\u001b[43mfun\u001b[49m\u001b[43m,\u001b[49m\u001b[43m \u001b[49m\u001b[43mx0\u001b[49m\u001b[43m,\u001b[49m\u001b[43m \u001b[49m\u001b[43mjac\u001b[49m\u001b[38;5;241;43m=\u001b[39;49m\u001b[43mjac\u001b[49m\u001b[43m,\u001b[49m\u001b[43m \u001b[49m\u001b[43margs\u001b[49m\u001b[38;5;241;43m=\u001b[39;49m\u001b[43margs\u001b[49m\u001b[43m,\u001b[49m\u001b[43m \u001b[49m\u001b[43mepsilon\u001b[49m\u001b[38;5;241;43m=\u001b[39;49m\u001b[43meps\u001b[49m\u001b[43m,\u001b[49m\n\u001b[0;32m    310\u001b[0m \u001b[43m                              \u001b[49m\u001b[43mbounds\u001b[49m\u001b[38;5;241;43m=\u001b[39;49m\u001b[43mbounds\u001b[49m\u001b[43m,\u001b[49m\n\u001b[0;32m    311\u001b[0m \u001b[43m                              \u001b[49m\u001b[43mfinite_diff_rel_step\u001b[49m\u001b[38;5;241;43m=\u001b[39;49m\u001b[43mfinite_diff_rel_step\u001b[49m\u001b[43m)\u001b[49m\n\u001b[0;32m    313\u001b[0m func_and_grad \u001b[38;5;241m=\u001b[39m sf\u001b[38;5;241m.\u001b[39mfun_and_grad\n\u001b[0;32m    315\u001b[0m fortran_int \u001b[38;5;241m=\u001b[39m _lbfgsb\u001b[38;5;241m.\u001b[39mtypes\u001b[38;5;241m.\u001b[39mintvar\u001b[38;5;241m.\u001b[39mdtype\n",
      "File \u001b[1;32m~\\AppData\\Roaming\\Python\\Python310\\site-packages\\scipy\\optimize\\_optimize.py:402\u001b[0m, in \u001b[0;36m_prepare_scalar_function\u001b[1;34m(fun, x0, jac, args, bounds, epsilon, finite_diff_rel_step, hess)\u001b[0m\n\u001b[0;32m    398\u001b[0m     bounds \u001b[38;5;241m=\u001b[39m (\u001b[38;5;241m-\u001b[39mnp\u001b[38;5;241m.\u001b[39minf, np\u001b[38;5;241m.\u001b[39minf)\n\u001b[0;32m    400\u001b[0m \u001b[38;5;66;03m# ScalarFunction caches. Reuse of fun(x) during grad\u001b[39;00m\n\u001b[0;32m    401\u001b[0m \u001b[38;5;66;03m# calculation reduces overall function evaluations.\u001b[39;00m\n\u001b[1;32m--> 402\u001b[0m sf \u001b[38;5;241m=\u001b[39m \u001b[43mScalarFunction\u001b[49m\u001b[43m(\u001b[49m\u001b[43mfun\u001b[49m\u001b[43m,\u001b[49m\u001b[43m \u001b[49m\u001b[43mx0\u001b[49m\u001b[43m,\u001b[49m\u001b[43m \u001b[49m\u001b[43margs\u001b[49m\u001b[43m,\u001b[49m\u001b[43m \u001b[49m\u001b[43mgrad\u001b[49m\u001b[43m,\u001b[49m\u001b[43m \u001b[49m\u001b[43mhess\u001b[49m\u001b[43m,\u001b[49m\n\u001b[0;32m    403\u001b[0m \u001b[43m                    \u001b[49m\u001b[43mfinite_diff_rel_step\u001b[49m\u001b[43m,\u001b[49m\u001b[43m \u001b[49m\u001b[43mbounds\u001b[49m\u001b[43m,\u001b[49m\u001b[43m \u001b[49m\u001b[43mepsilon\u001b[49m\u001b[38;5;241;43m=\u001b[39;49m\u001b[43mepsilon\u001b[49m\u001b[43m)\u001b[49m\n\u001b[0;32m    405\u001b[0m \u001b[38;5;28;01mreturn\u001b[39;00m sf\n",
      "File \u001b[1;32m~\\AppData\\Roaming\\Python\\Python310\\site-packages\\scipy\\optimize\\_differentiable_functions.py:185\u001b[0m, in \u001b[0;36mScalarFunction.__init__\u001b[1;34m(self, fun, x0, args, grad, hess, finite_diff_rel_step, finite_diff_bounds, epsilon)\u001b[0m\n\u001b[0;32m    181\u001b[0m         \u001b[38;5;28mself\u001b[39m\u001b[38;5;241m.\u001b[39mg \u001b[38;5;241m=\u001b[39m approx_derivative(fun_wrapped, \u001b[38;5;28mself\u001b[39m\u001b[38;5;241m.\u001b[39mx, f0\u001b[38;5;241m=\u001b[39m\u001b[38;5;28mself\u001b[39m\u001b[38;5;241m.\u001b[39mf,\n\u001b[0;32m    182\u001b[0m                                    \u001b[38;5;241m*\u001b[39m\u001b[38;5;241m*\u001b[39mfinite_diff_options)\n\u001b[0;32m    184\u001b[0m \u001b[38;5;28mself\u001b[39m\u001b[38;5;241m.\u001b[39m_update_grad_impl \u001b[38;5;241m=\u001b[39m update_grad\n\u001b[1;32m--> 185\u001b[0m \u001b[38;5;28;43mself\u001b[39;49m\u001b[38;5;241;43m.\u001b[39;49m\u001b[43m_update_grad\u001b[49m\u001b[43m(\u001b[49m\u001b[43m)\u001b[49m\n\u001b[0;32m    187\u001b[0m \u001b[38;5;66;03m# Hessian Evaluation\u001b[39;00m\n\u001b[0;32m    188\u001b[0m \u001b[38;5;28;01mif\u001b[39;00m \u001b[38;5;28mcallable\u001b[39m(hess):\n",
      "File \u001b[1;32m~\\AppData\\Roaming\\Python\\Python310\\site-packages\\scipy\\optimize\\_differentiable_functions.py:267\u001b[0m, in \u001b[0;36mScalarFunction._update_grad\u001b[1;34m(self)\u001b[0m\n\u001b[0;32m    265\u001b[0m \u001b[38;5;28;01mdef\u001b[39;00m \u001b[38;5;21m_update_grad\u001b[39m(\u001b[38;5;28mself\u001b[39m):\n\u001b[0;32m    266\u001b[0m     \u001b[38;5;28;01mif\u001b[39;00m \u001b[38;5;129;01mnot\u001b[39;00m \u001b[38;5;28mself\u001b[39m\u001b[38;5;241m.\u001b[39mg_updated:\n\u001b[1;32m--> 267\u001b[0m         \u001b[38;5;28;43mself\u001b[39;49m\u001b[38;5;241;43m.\u001b[39;49m\u001b[43m_update_grad_impl\u001b[49m\u001b[43m(\u001b[49m\u001b[43m)\u001b[49m\n\u001b[0;32m    268\u001b[0m         \u001b[38;5;28mself\u001b[39m\u001b[38;5;241m.\u001b[39mg_updated \u001b[38;5;241m=\u001b[39m \u001b[38;5;28;01mTrue\u001b[39;00m\n",
      "File \u001b[1;32m~\\AppData\\Roaming\\Python\\Python310\\site-packages\\scipy\\optimize\\_differentiable_functions.py:181\u001b[0m, in \u001b[0;36mScalarFunction.__init__.<locals>.update_grad\u001b[1;34m()\u001b[0m\n\u001b[0;32m    179\u001b[0m \u001b[38;5;28mself\u001b[39m\u001b[38;5;241m.\u001b[39m_update_fun()\n\u001b[0;32m    180\u001b[0m \u001b[38;5;28mself\u001b[39m\u001b[38;5;241m.\u001b[39mngev \u001b[38;5;241m+\u001b[39m\u001b[38;5;241m=\u001b[39m \u001b[38;5;241m1\u001b[39m\n\u001b[1;32m--> 181\u001b[0m \u001b[38;5;28mself\u001b[39m\u001b[38;5;241m.\u001b[39mg \u001b[38;5;241m=\u001b[39m approx_derivative(fun_wrapped, \u001b[38;5;28mself\u001b[39m\u001b[38;5;241m.\u001b[39mx, f0\u001b[38;5;241m=\u001b[39m\u001b[38;5;28mself\u001b[39m\u001b[38;5;241m.\u001b[39mf,\n\u001b[0;32m    182\u001b[0m                            \u001b[38;5;241m*\u001b[39m\u001b[38;5;241m*\u001b[39mfinite_diff_options)\n",
      "File \u001b[1;32m~\\AppData\\Roaming\\Python\\Python310\\site-packages\\scipy\\optimize\\_numdiff.py:519\u001b[0m, in \u001b[0;36mapprox_derivative\u001b[1;34m(fun, x0, method, rel_step, abs_step, f0, bounds, sparsity, as_linear_operator, args, kwargs)\u001b[0m\n\u001b[0;32m    516\u001b[0m     use_one_sided \u001b[38;5;241m=\u001b[39m \u001b[38;5;28;01mFalse\u001b[39;00m\n\u001b[0;32m    518\u001b[0m \u001b[38;5;28;01mif\u001b[39;00m sparsity \u001b[38;5;129;01mis\u001b[39;00m \u001b[38;5;28;01mNone\u001b[39;00m:\n\u001b[1;32m--> 519\u001b[0m     \u001b[38;5;28;01mreturn\u001b[39;00m \u001b[43m_dense_difference\u001b[49m\u001b[43m(\u001b[49m\u001b[43mfun_wrapped\u001b[49m\u001b[43m,\u001b[49m\u001b[43m \u001b[49m\u001b[43mx0\u001b[49m\u001b[43m,\u001b[49m\u001b[43m \u001b[49m\u001b[43mf0\u001b[49m\u001b[43m,\u001b[49m\u001b[43m \u001b[49m\u001b[43mh\u001b[49m\u001b[43m,\u001b[49m\n\u001b[0;32m    520\u001b[0m \u001b[43m                             \u001b[49m\u001b[43muse_one_sided\u001b[49m\u001b[43m,\u001b[49m\u001b[43m \u001b[49m\u001b[43mmethod\u001b[49m\u001b[43m)\u001b[49m\n\u001b[0;32m    521\u001b[0m \u001b[38;5;28;01melse\u001b[39;00m:\n\u001b[0;32m    522\u001b[0m     \u001b[38;5;28;01mif\u001b[39;00m \u001b[38;5;129;01mnot\u001b[39;00m issparse(sparsity) \u001b[38;5;129;01mand\u001b[39;00m \u001b[38;5;28mlen\u001b[39m(sparsity) \u001b[38;5;241m==\u001b[39m \u001b[38;5;241m2\u001b[39m:\n",
      "File \u001b[1;32m~\\AppData\\Roaming\\Python\\Python310\\site-packages\\scipy\\optimize\\_numdiff.py:584\u001b[0m, in \u001b[0;36m_dense_difference\u001b[1;34m(fun, x0, f0, h, use_one_sided, method)\u001b[0m\n\u001b[0;32m    582\u001b[0m n \u001b[38;5;241m=\u001b[39m x0\u001b[38;5;241m.\u001b[39msize\n\u001b[0;32m    583\u001b[0m J_transposed \u001b[38;5;241m=\u001b[39m np\u001b[38;5;241m.\u001b[39mempty((n, m))\n\u001b[1;32m--> 584\u001b[0m h_vecs \u001b[38;5;241m=\u001b[39m \u001b[43mnp\u001b[49m\u001b[38;5;241;43m.\u001b[39;49m\u001b[43mdiag\u001b[49m\u001b[43m(\u001b[49m\u001b[43mh\u001b[49m\u001b[43m)\u001b[49m\n\u001b[0;32m    586\u001b[0m \u001b[38;5;28;01mfor\u001b[39;00m i \u001b[38;5;129;01min\u001b[39;00m \u001b[38;5;28mrange\u001b[39m(h\u001b[38;5;241m.\u001b[39msize):\n\u001b[0;32m    587\u001b[0m     \u001b[38;5;28;01mif\u001b[39;00m method \u001b[38;5;241m==\u001b[39m \u001b[38;5;124m'\u001b[39m\u001b[38;5;124m2-point\u001b[39m\u001b[38;5;124m'\u001b[39m:\n",
      "File \u001b[1;32m~\\AppData\\Roaming\\Python\\Python310\\site-packages\\numpy\\lib\\twodim_base.py:293\u001b[0m, in \u001b[0;36mdiag\u001b[1;34m(v, k)\u001b[0m\n\u001b[0;32m    291\u001b[0m \u001b[38;5;28;01mif\u001b[39;00m \u001b[38;5;28mlen\u001b[39m(s) \u001b[38;5;241m==\u001b[39m \u001b[38;5;241m1\u001b[39m:\n\u001b[0;32m    292\u001b[0m     n \u001b[38;5;241m=\u001b[39m s[\u001b[38;5;241m0\u001b[39m]\u001b[38;5;241m+\u001b[39m\u001b[38;5;28mabs\u001b[39m(k)\n\u001b[1;32m--> 293\u001b[0m     res \u001b[38;5;241m=\u001b[39m \u001b[43mzeros\u001b[49m\u001b[43m(\u001b[49m\u001b[43m(\u001b[49m\u001b[43mn\u001b[49m\u001b[43m,\u001b[49m\u001b[43m \u001b[49m\u001b[43mn\u001b[49m\u001b[43m)\u001b[49m\u001b[43m,\u001b[49m\u001b[43m \u001b[49m\u001b[43mv\u001b[49m\u001b[38;5;241;43m.\u001b[39;49m\u001b[43mdtype\u001b[49m\u001b[43m)\u001b[49m\n\u001b[0;32m    294\u001b[0m     \u001b[38;5;28;01mif\u001b[39;00m k \u001b[38;5;241m>\u001b[39m\u001b[38;5;241m=\u001b[39m \u001b[38;5;241m0\u001b[39m:\n\u001b[0;32m    295\u001b[0m         i \u001b[38;5;241m=\u001b[39m k\n",
      "\u001b[1;31mMemoryError\u001b[0m: Unable to allocate 18.0 GiB for an array with shape (49152, 49152) and data type float64"
     ]
    }
   ],
   "source": [
    "import numpy as np\n",
    "from scipy.optimize import minimize\n",
    "from sklearn.metrics import accuracy_score, precision_recall_fscore_support, classification_report\n",
    "from sklearn.preprocessing import StandardScaler\n",
    "\n",
    "# Reload the dataset to ensure clean data\n",
    "# Assume `ai_faces.npy` and `real_faces.npy` are the dataset files\n",
    "ai_faces = np.load(\"ai_faces.npy\")\n",
    "real_faces = np.load(\"real_faces.npy\")\n",
    "\n",
    "# Define dataset sizes\n",
    "train_size = 1250\n",
    "val_size = 400\n",
    "\n",
    "# Function to split the data randomly\n",
    "def split_data(data, train_size, val_size):\n",
    "    indices = np.random.permutation(len(data))\n",
    "    train_indices = indices[:train_size]\n",
    "    val_indices = indices[train_size:train_size + val_size]\n",
    "    test_indices = indices[train_size + val_size:]\n",
    "    return data[train_indices], data[val_indices], data[test_indices]\n",
    "\n",
    "# Split AI and Real faces into train/validation/test sets\n",
    "ai_train, ai_val, ai_test = split_data(ai_faces, train_size, val_size)\n",
    "real_train, real_val, real_test = split_data(real_faces, train_size, val_size)\n",
    "\n",
    "# Combine datasets and labels\n",
    "X_train = np.concatenate((ai_train, real_train), axis=0)\n",
    "X_val = np.concatenate((ai_val, real_val), axis=0)\n",
    "X_test = np.concatenate((ai_test, real_test), axis=0)\n",
    "\n",
    "y_train = np.array([0] * len(ai_train) + [1] * len(real_train))\n",
    "y_val = np.array([0] * len(ai_val) + [1] * len(real_val))\n",
    "y_test = np.array([0] * len(ai_test) + [1] * len(real_test))\n",
    "\n",
    "# Flatten images and normalize features\n",
    "X_train_flat = X_train.reshape(X_train.shape[0], -1)\n",
    "X_val_flat = X_val.reshape(X_val.shape[0], -1)\n",
    "X_test_flat = X_test.reshape(X_test.shape[0], -1)\n",
    "\n",
    "scaler = StandardScaler()\n",
    "X_train_scaled = scaler.fit_transform(X_train_flat)\n",
    "X_val_scaled = scaler.transform(X_val_flat)\n",
    "X_test_scaled = scaler.transform(X_test_flat)\n",
    "\n",
    "# Convert labels to -1 and +1 for SVM\n",
    "y_train_svm = np.where(y_train == 0, -1, 1)\n",
    "y_val_svm = np.where(y_val == 0, -1, 1)\n",
    "y_test_svm = np.where(y_test == 0, -1, 1)\n",
    "\n",
    "# Define the SVM objective function\n",
    "def svm_objective(w, X, y, lambda1=0.1):\n",
    "    \"\"\"\n",
    "    Calculate the SVM objective function.\n",
    "    \n",
    "    w: weights\n",
    "    X: input data\n",
    "    y: labels (-1 or +1 for SVM)\n",
    "    lambda1: regularization parameter\n",
    "    \"\"\"\n",
    "    regularization_term = (lambda1 / 2) * np.linalg.norm(w)**2\n",
    "    hinge_loss = np.maximum(0, 1 - y * (np.dot(X, w)))\n",
    "    result = regularization_term + hinge_loss.sum()\n",
    "    return result\n",
    "\n",
    "# SVM Training\n",
    "def train_svm(X, y, lambda1=0.1):\n",
    "    \"\"\"\n",
    "    Train an SVM using the objective function.\n",
    "    \n",
    "    X: input data (N x d)\n",
    "    y: labels (-1 or +1 for SVM)\n",
    "    lambda1: regularization parameter\n",
    "    \"\"\"\n",
    "    N, d = X.shape\n",
    "    w0 = np.zeros(d)  # Initialize weights to zeros\n",
    "    \n",
    "    # Use scipy.optimize.minimize to minimize the objective function\n",
    "    result = minimize(fun=svm_objective, x0=w0, args=(X, y, lambda1), method='L-BFGS-B')\n",
    "    return result.x  # Optimized weights\n",
    "\n",
    "# Train the SVM with the training set and evaluate using the validation set\n",
    "lambda1 = 0.1  # Regularization parameter\n",
    "w_svm = train_svm(X_train_scaled, y_train_svm, lambda1=lambda1)\n",
    "\n",
    "# Make predictions on the validation set\n",
    "y_val_pred_svm = np.sign(np.dot(X_val_scaled, w_svm))\n",
    "\n",
    "# Evaluate the SVM on the validation set\n",
    "val_accuracy = accuracy_score(y_val_svm, y_val_pred_svm)\n",
    "val_prec, val_recal, val_fscore, val_sup = precision_recall_fscore_support(y_val_svm, y_val_pred_svm, average='binary')\n",
    "\n",
    "print(f\"Validation Accuracy: {val_accuracy * 100:.2f}%\")\n",
    "print(f\"Validation Precision: {val_prec:.2f}\")\n",
    "print(f\"Validation Recall: {val_recal:.2f}\")\n",
    "print(f\"Validation F1-Score: {val_fscore:.2f}\")\n",
    "\n",
    "# Classification report on the validation set\n",
    "print(\"\\nValidation Classification Report:\\n\")\n",
    "print(classification_report(y_val_svm, y_val_pred_svm, target_names=[\"AI\", \"Real\"]))\n"
   ]
  },
  {
   "cell_type": "code",
   "execution_count": 27,
   "metadata": {},
   "outputs": [
    {
     "name": "stdout",
     "output_type": "stream",
     "text": [
      "Error processing image.png: [Errno 2] No such file or directory: 'image.png'\n"
     ]
    }
   ],
   "source": [
    "# Function to load and preprocess a single image\n",
    "def preprocess_single_image(filepath, img_size):\n",
    "    \"\"\"\n",
    "    Preprocess a single image: resize, normalize, and convert to numpy array.\n",
    "    \n",
    "    filepath: Path to the image file.\n",
    "    img_size: Target size (width, height) for resizing the image.\n",
    "    \n",
    "    Returns: Preprocessed image as a numpy array.\n",
    "    \"\"\"\n",
    "    try:\n",
    "        img = Image.open(filepath).convert(\"RGB\")  # Ensure RGB format\n",
    "        img = img.resize(img_size)  # Resize to target size\n",
    "        plt.imshow(img)\n",
    "        plt.title(\"Processed Image\")\n",
    "        plt.axis(\"off\")\n",
    "        plt.show()\n",
    "        return np.array(img) / 255.0  # Normalize pixel values\n",
    "    except Exception as e:\n",
    "        print(f\"Error processing {filepath}: {e}\")\n",
    "        return None\n",
    "\n",
    "# Preprocess the sample image\n",
    "SAMPLE_IMG_SIZE = (128, 128)  # Target size for resizing\n",
    "sample_image_path = \"image.png\"  # Update to your sample image path\n",
    "\n",
    "sample_image_processed = preprocess_single_image(sample_image_path, SAMPLE_IMG_SIZE)\n",
    "\n",
    "# Check the shape of the processed image and proceed to scaling if successful\n",
    "if sample_image_processed is not None:\n",
    "    # Flatten the image to match the input of the model\n",
    "    sample_image_flat = sample_image_processed.reshape(1, -1)\n",
    "\n",
    "    # Scale the sample image using the trained StandardScaler\n",
    "    sample_image_scaled = scaler.transform(sample_image_flat)\n",
    "\n",
    "    # Use the trained SVM model to predict the label for the sample image\n",
    "    sample_image_pred = np.sign(np.dot(sample_image_scaled, w_svm))\n",
    "\n",
    "    # Map prediction to label\n",
    "    predicted_label = \"AI-Generated\" if sample_image_pred[0] == -1 else \"Real\"\n",
    "\n",
    "    # Display the result\n",
    "    print(f\"The predicted label for the sample image is: {predicted_label}\")\n",
    "\n",
    "else:\n",
    "    \"Failed to preprocess the sample image.\"\n"
   ]
  },
  {
   "cell_type": "markdown",
   "metadata": {},
   "source": [
    "SVM"
   ]
  },
  {
   "cell_type": "code",
   "execution_count": 37,
   "metadata": {},
   "outputs": [],
   "source": [
    "# import the necessary libraries\n",
    "import numpy as np\n",
    "from matplotlib import pyplot\n",
    "from sklearn.datasets import fetch_openml\n",
    "from sklearn.model_selection import train_test_split\n",
    "from sklearn.preprocessing import StandardScaler\n",
    "from sklearn.svm import SVC\n",
    "from sklearn.metrics import accuracy_score, classification_report"
   ]
  },
  {
   "cell_type": "code",
   "execution_count": 29,
   "metadata": {},
   "outputs": [],
   "source": [
    "# Scale the data to have zero mean and unit variance\n",
    "# SHOULD BE IN PREVIOUS SECTION AS WELL\n",
    "\n",
    "scaler = StandardScaler()\n",
    "X_train_scaled = scaler.fit_transform(X_train_flat)\n",
    "X_val_scaled = scaler.transform(X_val_flat)\n",
    "X_test_scaled = scaler.transform(X_test_flat)"
   ]
  },
  {
   "cell_type": "code",
   "execution_count": 31,
   "metadata": {},
   "outputs": [],
   "source": [
    "# The original labels are strings: '0','1', '2', ... '9'. Our SVM algorithm Pegasos expects the labels to be encoded as +1 and -1\n",
    "# Here we encode one digit as 1, and we encode the other 9 digits as -1\n",
    "def one_vs_rest_encoding(y, digit = '0'):\n",
    "\n",
    "    # Let y_encoded be an numpy array of encoded digits, with 1 for the digit we want to predict, and -1 for the rest\n",
    "    # This may take several lines of code, but please store your final encoding in y_encoded\n",
    "    y_encoded = y_encoded = np.array([1 if label == digit else -1 for label in y])   #// check\n",
    "    \n",
    "    return  y_encoded\n",
    "\n",
    "# Compute the score for each example in X\n",
    "def score(X, w):\n",
    "    # To do\n",
    "    return np.dot(X, w) \n",
    "\n",
    "def svm_objective(w, X, y, lambda1=.1):\n",
    "    # To do. This part may require several lines of code. \n",
    "    # Store your answer in result. \n",
    "    reg = (lambda1 / 2) * np.dot(w, w)\n",
    "    hing = np.maximum(0, 1 - y * np.dot(X, w))\n",
    "    hingSum = np.sum(hing)\n",
    "    result = reg + hingSum \n",
    "    return result"
   ]
  },
  {
   "cell_type": "code",
   "execution_count": 33,
   "metadata": {},
   "outputs": [],
   "source": [
    "# stochastic sub-gradient descent\n",
    "def pegasos(X_train, y_train, lambda1, num_iters):\n",
    "    # Hyperparameters: threshold, lambda1\n",
    "    # parameters\n",
    "    N, d = X_train.shape  # Number of samples and features\n",
    "    t = 0  # Iteration counter\n",
    "    w = np.zeros(d)  # Initialize weight vector to zeros\n",
    "\n",
    "    for iter in range(num_iters):  # Iterate over the dataset multiple times\n",
    "        print(f\"Iteration {iter + 1}, Objective: {svm_objective(w, X_train, y_train, lambda1):.6f}\")\n",
    "\n",
    "        for i in range(N):  # Stochastic gradient descent over each sample\n",
    "            t += 1  # Increment iteration counter\n",
    "            learning_rate = 1 / (lambda1 * t)  # Learning rate schedule\n",
    "\n",
    "            # Calculate the update for this example\n",
    "            if y_train[i] * np.dot(X_train[i], w) < 1:  # If hinge loss is violated\n",
    "                w = (1 - learning_rate * lambda1) * w + learning_rate * y_train[i] * X_train[i]\n",
    "            else:  # If hinge loss is satisfied\n",
    "                w = (1 - learning_rate * lambda1) * w\n",
    "\n",
    "    return w"
   ]
  },
  {
   "cell_type": "code",
   "execution_count": 34,
   "metadata": {},
   "outputs": [],
   "source": [
    "digit_to_predict = '0'\n",
    "y_train_encoded = one_vs_rest_encoding(y_train, digit=digit_to_predict)\n",
    "y_val_encoded = one_vs_rest_encoding(y_val, digit=digit_to_predict)\n",
    "y_test_encoded = one_vs_rest_encoding(y_test, digit=digit_to_predict)"
   ]
  },
  {
   "cell_type": "code",
   "execution_count": 35,
   "metadata": {},
   "outputs": [
    {
     "name": "stdout",
     "output_type": "stream",
     "text": [
      "Iteration 1, Objective: 2500.000000\n",
      "Iteration 2, Objective: 554340.493667\n",
      "Iteration 3, Objective: 295936.127427\n",
      "Iteration 4, Objective: 194006.084824\n",
      "Iteration 5, Objective: 187220.701128\n",
      "Iteration 6, Objective: 147374.749170\n",
      "Iteration 7, Objective: 114202.329349\n",
      "Iteration 8, Objective: 99871.434387\n",
      "Iteration 9, Objective: 90869.574954\n",
      "Iteration 10, Objective: 90956.829010\n"
     ]
    }
   ],
   "source": [
    "lambda1 = 0.05  # Regularization parameter\n",
    "num_iters = 10  # Number of iterations\n",
    "w_pegasos = pegasos(X_train_scaled, y_train_encoded, lambda1=lambda1, num_iters=num_iters)\n"
   ]
  },
  {
   "cell_type": "code",
   "execution_count": 36,
   "metadata": {},
   "outputs": [],
   "source": [
    "# Predict labels using the score function\n",
    "y_val_scores = score(X_val_scaled, w_pegasos)\n",
    "y_val_pred = np.where(y_val_scores >= 0, 1, -1)  # Convert scores to binary predictions (+1/-1)\n",
    "\n",
    "y_test_scores = score(X_test_scaled, w_pegasos)\n",
    "y_test_pred = np.where(y_test_scores >= 0, 1, -1)"
   ]
  },
  {
   "cell_type": "code",
   "execution_count": 39,
   "metadata": {},
   "outputs": [
    {
     "name": "stdout",
     "output_type": "stream",
     "text": [
      "Validation Accuracy: 50.75%\n",
      "Test Accuracy: 49.86%\n",
      "\n",
      "Validation Classification Report:\n",
      "\n",
      "              precision    recall  f1-score   support\n",
      "\n",
      "    AI Faces       1.00      0.51      0.67       800\n",
      "  Real Faces       0.00      0.00      0.00         0\n",
      "\n",
      "    accuracy                           0.51       800\n",
      "   macro avg       0.50      0.25      0.34       800\n",
      "weighted avg       1.00      0.51      0.67       800\n",
      "\n",
      "\n",
      "Test Classification Report:\n",
      "\n",
      "              precision    recall  f1-score   support\n",
      "\n",
      "    AI Faces       1.00      0.50      0.67       700\n",
      "  Real Faces       0.00      0.00      0.00         0\n",
      "\n",
      "    accuracy                           0.50       700\n",
      "   macro avg       0.50      0.25      0.33       700\n",
      "weighted avg       1.00      0.50      0.67       700\n",
      "\n"
     ]
    },
    {
     "name": "stderr",
     "output_type": "stream",
     "text": [
      "C:\\Users\\louis\\AppData\\Roaming\\Python\\Python310\\site-packages\\sklearn\\metrics\\_classification.py:1497: UndefinedMetricWarning: Recall is ill-defined and being set to 0.0 in labels with no true samples. Use `zero_division` parameter to control this behavior.\n",
      "  _warn_prf(average, modifier, f\"{metric.capitalize()} is\", len(result))\n",
      "C:\\Users\\louis\\AppData\\Roaming\\Python\\Python310\\site-packages\\sklearn\\metrics\\_classification.py:1497: UndefinedMetricWarning: Recall is ill-defined and being set to 0.0 in labels with no true samples. Use `zero_division` parameter to control this behavior.\n",
      "  _warn_prf(average, modifier, f\"{metric.capitalize()} is\", len(result))\n",
      "C:\\Users\\louis\\AppData\\Roaming\\Python\\Python310\\site-packages\\sklearn\\metrics\\_classification.py:1497: UndefinedMetricWarning: Recall is ill-defined and being set to 0.0 in labels with no true samples. Use `zero_division` parameter to control this behavior.\n",
      "  _warn_prf(average, modifier, f\"{metric.capitalize()} is\", len(result))\n",
      "C:\\Users\\louis\\AppData\\Roaming\\Python\\Python310\\site-packages\\sklearn\\metrics\\_classification.py:1497: UndefinedMetricWarning: Recall is ill-defined and being set to 0.0 in labels with no true samples. Use `zero_division` parameter to control this behavior.\n",
      "  _warn_prf(average, modifier, f\"{metric.capitalize()} is\", len(result))\n",
      "C:\\Users\\louis\\AppData\\Roaming\\Python\\Python310\\site-packages\\sklearn\\metrics\\_classification.py:1497: UndefinedMetricWarning: Recall is ill-defined and being set to 0.0 in labels with no true samples. Use `zero_division` parameter to control this behavior.\n",
      "  _warn_prf(average, modifier, f\"{metric.capitalize()} is\", len(result))\n",
      "C:\\Users\\louis\\AppData\\Roaming\\Python\\Python310\\site-packages\\sklearn\\metrics\\_classification.py:1497: UndefinedMetricWarning: Recall is ill-defined and being set to 0.0 in labels with no true samples. Use `zero_division` parameter to control this behavior.\n",
      "  _warn_prf(average, modifier, f\"{metric.capitalize()} is\", len(result))\n"
     ]
    }
   ],
   "source": [
    "# Validation Accuracy\n",
    "val_accuracy = accuracy_score(y_val_encoded, y_val_pred)\n",
    "print(f\"Validation Accuracy: {val_accuracy * 100:.2f}%\")\n",
    "\n",
    "# Test Accuracy\n",
    "test_accuracy = accuracy_score(y_test_encoded, y_test_pred)\n",
    "print(f\"Test Accuracy: {test_accuracy * 100:.2f}%\")\n",
    "\n",
    "# Classification report\n",
    "print(\"\\nValidation Classification Report:\\n\")\n",
    "print(classification_report(y_val_encoded, y_val_pred, target_names=[\"AI Faces\", \"Real Faces\"]))\n",
    "\n",
    "print(\"\\nTest Classification Report:\\n\")\n",
    "print(classification_report(y_test_encoded, y_test_pred, target_names=[\"AI Faces\", \"Real Faces\"]))"
   ]
  }
 ],
 "metadata": {
  "kernelspec": {
   "display_name": "Python 3",
   "language": "python",
   "name": "python3"
  },
  "language_info": {
   "codemirror_mode": {
    "name": "ipython",
    "version": 3
   },
   "file_extension": ".py",
   "mimetype": "text/x-python",
   "name": "python",
   "nbconvert_exporter": "python",
   "pygments_lexer": "ipython3",
   "version": "3.10.0"
  }
 },
 "nbformat": 4,
 "nbformat_minor": 2
}
